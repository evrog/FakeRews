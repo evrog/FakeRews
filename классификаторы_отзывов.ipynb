{
  "cells": [
    {
      "cell_type": "code",
      "execution_count": 1,
      "metadata": {
        "id": "9nJi50PRV64r"
      },
      "outputs": [],
      "source": [
        "import pandas as pd\n",
        "import numpy as np\n",
        "import matplotlib\n",
        "import matplotlib.pyplot as plt\n",
        "import seaborn as sns\n",
        "\n",
        "from sklearn.model_selection import train_test_split\n",
        "from sklearn.preprocessing import StandardScaler\n",
        "from sklearn.model_selection import GridSearchCV\n",
        "from sklearn.metrics import classification_report,confusion_matrix,accuracy_score"
      ]
    },
    {
      "cell_type": "code",
      "source": [
        "df_mm = pd.read_csv('КластерММ.csv')\n",
        "df_em = pd.read_csv('КластерЭМ.csv')"
      ],
      "metadata": {
        "id": "kbKyOljMHs_J"
      },
      "execution_count": 3,
      "outputs": []
    },
    {
      "cell_type": "code",
      "source": [
        "#Для бинарной классификации: нравится - не нравится\n",
        "df_mm_bin = df_mm[df_mm['Рейтинг'] != 0]\n",
        "df_em_bin = df_em[df_em['Рейтинг'] != 0]"
      ],
      "metadata": {
        "id": "Ktr1WljbMfrc"
      },
      "execution_count": 4,
      "outputs": []
    },
    {
      "cell_type": "code",
      "source": [
        "df_mm['Рейтинг'] = df_mm['Рейтинг'].apply(lambda x: 1 if x > 0 else (-1 if x < 0 else x))\n",
        "df_em['Рейтинг'] = df_em['Рейтинг'].apply(lambda x: 1 if x > 0 else (-1 if x < 0 else x))\n",
        "df_mm_bin['Рейтинг'] = df_mm_bin['Рейтинг'].apply(lambda x: 1 if x > 0 else (-1 if x < 0 else x))\n",
        "df_em_bin['Рейтинг'] = df_em_bin['Рейтинг'].apply(lambda x: 1 if x > 0 else (-1 if x < 0 else x))"
      ],
      "metadata": {
        "id": "PCyjiXIJMQj5"
      },
      "execution_count": 17,
      "outputs": []
    },
    {
      "cell_type": "code",
      "source": [
        "X1 = df_mm.drop(['Рейтинг', 'Лайки', 'Дизлайки', 'Реакции', 'Текст'],axis=1)\n",
        "y1 = df_mm['Рейтинг']\n",
        "\n",
        "X2 = df_em.drop(['Рейтинг', 'Лайки', 'Дизлайки', 'Реакции', 'Текст'],axis=1)\n",
        "y2 = df_em['Рейтинг']\n",
        "\n",
        "X3 = df_mm_bin.drop(['Рейтинг', 'Лайки', 'Дизлайки', 'Реакции', 'Текст'],axis=1)\n",
        "y3 = df_mm_bin['Рейтинг']\n",
        "\n",
        "X4 = df_em_bin.drop(['Рейтинг', 'Лайки', 'Дизлайки', 'Реакции', 'Текст'],axis=1)\n",
        "y4 = df_em_bin['Рейтинг']"
      ],
      "metadata": {
        "id": "TC2o_f-tJIA-"
      },
      "execution_count": 37,
      "outputs": []
    },
    {
      "cell_type": "code",
      "source": [
        "X1_train, X1_test, y1_train, y1_test = train_test_split(X1, y1, test_size=0.3, random_state=101)\n",
        "scaler = StandardScaler()\n",
        "scaled_X1_train = scaler.fit_transform(X1_train)\n",
        "scaled_X1_test = scaler.transform(X1_test)\n",
        "\n",
        "X2_train, X2_test, y2_train, y2_test = train_test_split(X2, y2, test_size=0.3, random_state=101)\n",
        "scaler = StandardScaler()\n",
        "scaled_X2_train = scaler.fit_transform(X2_train)\n",
        "scaled_X2_test = scaler.transform(X2_test)\n",
        "\n",
        "X3_train, X3_test, y3_train, y3_test = train_test_split(X3, y3, test_size=0.3, random_state=101)\n",
        "scaler = StandardScaler()\n",
        "scaled_X3_train = scaler.fit_transform(X3_train)\n",
        "scaled_X3_test = scaler.transform(X3_test)\n",
        "\n",
        "X4_train, X4_test, y4_train, y4_test = train_test_split(X4, y4, test_size=0.3, random_state=101)\n",
        "scaler = StandardScaler()\n",
        "scaled_X4_train = scaler.fit_transform(X4_train)\n",
        "scaled_X4_test = scaler.transform(X4_test)"
      ],
      "metadata": {
        "id": "81Vpx85rJVSn"
      },
      "execution_count": 38,
      "outputs": []
    },
    {
      "cell_type": "markdown",
      "metadata": {
        "id": "Dr8aig9oV64w"
      },
      "source": [
        "## Логистическая регрессия"
      ]
    },
    {
      "cell_type": "code",
      "source": [
        "import warnings\n",
        "warnings.filterwarnings(\"ignore\")"
      ],
      "metadata": {
        "id": "fziQtp7dLGRs"
      },
      "execution_count": 15,
      "outputs": []
    },
    {
      "cell_type": "code",
      "source": [
        "from sklearn.linear_model import LogisticRegression"
      ],
      "metadata": {
        "id": "97HeQ057Mp2o"
      },
      "execution_count": 21,
      "outputs": []
    },
    {
      "cell_type": "code",
      "execution_count": 39,
      "metadata": {
        "colab": {
          "base_uri": "https://localhost:8080/"
        },
        "id": "dlkThEDgV64x",
        "outputId": "a7e24c8f-c0dc-412b-9aac-94ecabd12702"
      },
      "outputs": [
        {
          "output_type": "stream",
          "name": "stdout",
          "text": [
            "[[  0  13   0]\n",
            " [  0 683   4]\n",
            " [  0  34  11]]\n",
            "              precision    recall  f1-score   support\n",
            "\n",
            "          -1       0.00      0.00      0.00        13\n",
            "           0       0.94      0.99      0.96       687\n",
            "           1       0.73      0.24      0.37        45\n",
            "\n",
            "    accuracy                           0.93       745\n",
            "   macro avg       0.56      0.41      0.44       745\n",
            "weighted avg       0.91      0.93      0.91       745\n",
            "\n"
          ]
        }
      ],
      "source": [
        "model = LogisticRegression()\n",
        "log_model = LogisticRegression(solver='newton-cg',multi_class=\"multinomial\",max_iter=50)\n",
        "penalty = ['l1', 'l2']\n",
        "C = np.logspace(0, 4, 10)\n",
        "grid_model = GridSearchCV(log_model,param_grid={'C':C,'penalty':penalty})\n",
        "grid_model.fit(scaled_X1_train, y1_train)\n",
        "grid_model.best_params_\n",
        "y1_pred = grid_model.predict(scaled_X1_test)\n",
        "print(confusion_matrix(y1_test,y1_pred))\n",
        "print(classification_report(y1_test,y1_pred))"
      ]
    },
    {
      "cell_type": "code",
      "source": [
        "model = LogisticRegression()\n",
        "log_model = LogisticRegression(solver='newton-cg',multi_class=\"multinomial\",max_iter=50)\n",
        "penalty = ['l1', 'l2']\n",
        "C = np.logspace(0, 4, 10)\n",
        "grid_model = GridSearchCV(log_model,param_grid={'C':C,'penalty':penalty})\n",
        "grid_model.fit(scaled_X2_train, y2_train)\n",
        "grid_model.best_params_\n",
        "y2_pred = grid_model.predict(scaled_X2_test)\n",
        "print(confusion_matrix(y2_test,y2_pred))\n",
        "print(classification_report(y2_test,y2_pred))"
      ],
      "metadata": {
        "colab": {
          "base_uri": "https://localhost:8080/"
        },
        "id": "5dbICtWZMmVj",
        "outputId": "f127187b-e9e7-4c2b-926b-c4cf728d22d0"
      },
      "execution_count": 40,
      "outputs": [
        {
          "output_type": "stream",
          "name": "stdout",
          "text": [
            "[[75 19 22]\n",
            " [39 20 30]\n",
            " [23 25 81]]\n",
            "              precision    recall  f1-score   support\n",
            "\n",
            "          -1       0.55      0.65      0.59       116\n",
            "           0       0.31      0.22      0.26        89\n",
            "           1       0.61      0.63      0.62       129\n",
            "\n",
            "    accuracy                           0.53       334\n",
            "   macro avg       0.49      0.50      0.49       334\n",
            "weighted avg       0.51      0.53      0.51       334\n",
            "\n"
          ]
        }
      ]
    },
    {
      "cell_type": "code",
      "source": [
        "model = LogisticRegression()\n",
        "log_model = LogisticRegression(solver='newton-cg',multi_class=\"multinomial\",max_iter=50)\n",
        "penalty = ['l1', 'l2']\n",
        "C = np.logspace(0, 4, 10)\n",
        "grid_model = GridSearchCV(log_model,param_grid={'C':C,'penalty':penalty})\n",
        "grid_model.fit(scaled_X3_train, y3_train)\n",
        "grid_model.best_params_\n",
        "y3_pred = grid_model.predict(scaled_X3_test)\n",
        "print(confusion_matrix(y3_test,y3_pred))\n",
        "print(classification_report(y3_test,y3_pred))"
      ],
      "metadata": {
        "colab": {
          "base_uri": "https://localhost:8080/"
        },
        "id": "OM8t9sIXNer4",
        "outputId": "b4ef0305-fafc-44d9-8ddd-3900a505e2ff"
      },
      "execution_count": 41,
      "outputs": [
        {
          "output_type": "stream",
          "name": "stdout",
          "text": [
            "[[ 9  6]\n",
            " [12 38]]\n",
            "              precision    recall  f1-score   support\n",
            "\n",
            "          -1       0.43      0.60      0.50        15\n",
            "           1       0.86      0.76      0.81        50\n",
            "\n",
            "    accuracy                           0.72        65\n",
            "   macro avg       0.65      0.68      0.65        65\n",
            "weighted avg       0.76      0.72      0.74        65\n",
            "\n"
          ]
        }
      ]
    },
    {
      "cell_type": "code",
      "source": [
        "model = LogisticRegression()\n",
        "log_model = LogisticRegression(solver='newton-cg',multi_class=\"multinomial\",max_iter=50)\n",
        "penalty = ['l1', 'l2']\n",
        "C = np.logspace(0, 4, 10)\n",
        "grid_model = GridSearchCV(log_model,param_grid={'C':C,'penalty':penalty})\n",
        "grid_model.fit(scaled_X4_train, y4_train)\n",
        "grid_model.best_params_\n",
        "y4_pred = grid_model.predict(scaled_X4_test)\n",
        "print(confusion_matrix(y4_test,y4_pred))\n",
        "print(classification_report(y4_test,y4_pred))"
      ],
      "metadata": {
        "colab": {
          "base_uri": "https://localhost:8080/"
        },
        "id": "Sopnh440NntK",
        "outputId": "de32258e-95cd-4570-f215-dbc7cc2cbb1f"
      },
      "execution_count": 42,
      "outputs": [
        {
          "output_type": "stream",
          "name": "stdout",
          "text": [
            "[[90 25]\n",
            " [46 82]]\n",
            "              precision    recall  f1-score   support\n",
            "\n",
            "          -1       0.66      0.78      0.72       115\n",
            "           1       0.77      0.64      0.70       128\n",
            "\n",
            "    accuracy                           0.71       243\n",
            "   macro avg       0.71      0.71      0.71       243\n",
            "weighted avg       0.72      0.71      0.71       243\n",
            "\n"
          ]
        }
      ]
    },
    {
      "cell_type": "markdown",
      "metadata": {
        "id": "K5Q1EwydV640"
      },
      "source": [
        "## KNN"
      ]
    },
    {
      "cell_type": "code",
      "source": [
        "from sklearn.neighbors import KNeighborsClassifier"
      ],
      "metadata": {
        "id": "ew7PQYRMNZnK"
      },
      "execution_count": 23,
      "outputs": []
    },
    {
      "cell_type": "code",
      "execution_count": 43,
      "metadata": {
        "colab": {
          "base_uri": "https://localhost:8080/"
        },
        "id": "eDPWkxAkV640",
        "outputId": "30c0d166-f53e-4642-cacd-d0421fa30582"
      },
      "outputs": [
        {
          "output_type": "stream",
          "name": "stdout",
          "text": [
            "[[  0  13   0]\n",
            " [  5 675   7]\n",
            " [  0  38   7]]\n",
            "              precision    recall  f1-score   support\n",
            "\n",
            "          -1       0.00      0.00      0.00        13\n",
            "           0       0.93      0.98      0.96       687\n",
            "           1       0.50      0.16      0.24        45\n",
            "\n",
            "    accuracy                           0.92       745\n",
            "   macro avg       0.48      0.38      0.40       745\n",
            "weighted avg       0.89      0.92      0.90       745\n",
            "\n"
          ]
        }
      ],
      "source": [
        "model = KNeighborsClassifier()\n",
        "param_grid = {'n_neighbors':[1,2,3],\n",
        "              'weights':['uniform', 'distance']}\n",
        "grid_model = GridSearchCV(estimator=model,\n",
        "                          param_grid=param_grid, cv=5)\n",
        "grid_model.fit(scaled_X1_train, y1_train)\n",
        "y1_pred = grid_model.predict(scaled_X1_test)\n",
        "print(confusion_matrix(y1_test, y1_pred))\n",
        "print(classification_report(y1_test, y1_pred))"
      ]
    },
    {
      "cell_type": "code",
      "source": [
        "model = KNeighborsClassifier()\n",
        "param_grid = {'n_neighbors':[1,2,3],\n",
        "              'weights':['uniform', 'distance']}\n",
        "grid_model = GridSearchCV(estimator=model,\n",
        "                          param_grid=param_grid, cv=5)\n",
        "grid_model.fit(scaled_X2_train, y2_train)\n",
        "y2_pred = grid_model.predict(scaled_X2_test)\n",
        "print(confusion_matrix(y2_test, y2_pred))\n",
        "print(classification_report(y2_test, y2_pred))"
      ],
      "metadata": {
        "colab": {
          "base_uri": "https://localhost:8080/"
        },
        "id": "ldU85EW1OSl7",
        "outputId": "8606c54a-49cb-4fad-d4ce-5649efc67d05"
      },
      "execution_count": 44,
      "outputs": [
        {
          "output_type": "stream",
          "name": "stdout",
          "text": [
            "[[65 25 26]\n",
            " [31 30 28]\n",
            " [38 34 57]]\n",
            "              precision    recall  f1-score   support\n",
            "\n",
            "          -1       0.49      0.56      0.52       116\n",
            "           0       0.34      0.34      0.34        89\n",
            "           1       0.51      0.44      0.47       129\n",
            "\n",
            "    accuracy                           0.46       334\n",
            "   macro avg       0.45      0.45      0.44       334\n",
            "weighted avg       0.46      0.46      0.45       334\n",
            "\n"
          ]
        }
      ]
    },
    {
      "cell_type": "code",
      "source": [
        "model = KNeighborsClassifier()\n",
        "param_grid = {'n_neighbors':[1,2,3],\n",
        "              'weights':['uniform', 'distance']}\n",
        "grid_model = GridSearchCV(estimator=model,\n",
        "                          param_grid=param_grid, cv=5)\n",
        "grid_model.fit(scaled_X3_train, y3_train)\n",
        "y3_pred = grid_model.predict(scaled_X3_test)\n",
        "print(confusion_matrix(y3_test, y3_pred))\n",
        "print(classification_report(y3_test, y3_pred))"
      ],
      "metadata": {
        "colab": {
          "base_uri": "https://localhost:8080/"
        },
        "id": "ynqnXhRKOYEm",
        "outputId": "81fff7d4-7975-4924-9d5e-6c7a8310cbec"
      },
      "execution_count": 45,
      "outputs": [
        {
          "output_type": "stream",
          "name": "stdout",
          "text": [
            "[[ 6  9]\n",
            " [14 36]]\n",
            "              precision    recall  f1-score   support\n",
            "\n",
            "          -1       0.30      0.40      0.34        15\n",
            "           1       0.80      0.72      0.76        50\n",
            "\n",
            "    accuracy                           0.65        65\n",
            "   macro avg       0.55      0.56      0.55        65\n",
            "weighted avg       0.68      0.65      0.66        65\n",
            "\n"
          ]
        }
      ]
    },
    {
      "cell_type": "code",
      "source": [
        "model = KNeighborsClassifier()\n",
        "param_grid = {'n_neighbors':[1,2,3],\n",
        "              'weights':['uniform', 'distance']}\n",
        "grid_model = GridSearchCV(estimator=model,\n",
        "                          param_grid=param_grid, cv=5)\n",
        "grid_model.fit(scaled_X4_train, y4_train)\n",
        "y4_pred = grid_model.predict(scaled_X4_test)\n",
        "print(confusion_matrix(y4_test, y4_pred))\n",
        "print(classification_report(y4_test, y4_pred))"
      ],
      "metadata": {
        "colab": {
          "base_uri": "https://localhost:8080/"
        },
        "id": "ay6e1MMwOeHi",
        "outputId": "1b28cb79-c418-423e-e9a8-1fb4ab884f9b"
      },
      "execution_count": 46,
      "outputs": [
        {
          "output_type": "stream",
          "name": "stdout",
          "text": [
            "[[79 36]\n",
            " [50 78]]\n",
            "              precision    recall  f1-score   support\n",
            "\n",
            "          -1       0.61      0.69      0.65       115\n",
            "           1       0.68      0.61      0.64       128\n",
            "\n",
            "    accuracy                           0.65       243\n",
            "   macro avg       0.65      0.65      0.65       243\n",
            "weighted avg       0.65      0.65      0.65       243\n",
            "\n"
          ]
        }
      ]
    },
    {
      "cell_type": "markdown",
      "metadata": {
        "id": "VXz5MbBKV641"
      },
      "source": [
        "## SVM"
      ]
    },
    {
      "cell_type": "code",
      "source": [
        "from sklearn.svm import SVC"
      ],
      "metadata": {
        "id": "1QBbFfkyPD9j"
      },
      "execution_count": 30,
      "outputs": []
    },
    {
      "cell_type": "code",
      "execution_count": 47,
      "metadata": {
        "colab": {
          "base_uri": "https://localhost:8080/"
        },
        "id": "qRlW4vuhV641",
        "outputId": "aebc317f-4a42-47f4-ebe5-45f9059101fd"
      },
      "outputs": [
        {
          "output_type": "stream",
          "name": "stdout",
          "text": [
            "[[  0  13   0]\n",
            " [  0 686   1]\n",
            " [  0  35  10]]\n",
            "              precision    recall  f1-score   support\n",
            "\n",
            "          -1       0.00      0.00      0.00        13\n",
            "           0       0.93      1.00      0.97       687\n",
            "           1       0.91      0.22      0.36        45\n",
            "\n",
            "    accuracy                           0.93       745\n",
            "   macro avg       0.61      0.41      0.44       745\n",
            "weighted avg       0.92      0.93      0.91       745\n",
            "\n"
          ]
        }
      ],
      "source": [
        "model = SVC()\n",
        "param_grid = {'C':[1,5,8],'kernel':['linear','rbf']}\n",
        "grid_model = GridSearchCV(model,param_grid)\n",
        "grid_model.fit(scaled_X1_test, y1_test)\n",
        "y1_pred = grid_model.predict(scaled_X1_test)\n",
        "print(confusion_matrix(y1_test, y1_pred))\n",
        "print(classification_report(y1_test, y1_pred))"
      ]
    },
    {
      "cell_type": "code",
      "source": [
        "model = SVC()\n",
        "param_grid = {'C':[1,5,8],'kernel':['linear','rbf']}\n",
        "grid_model = GridSearchCV(model,param_grid)\n",
        "grid_model.fit(scaled_X2_test, y2_test)\n",
        "y2_pred = grid_model.predict(scaled_X2_test)\n",
        "print(confusion_matrix(y2_test, y2_pred))\n",
        "print(classification_report(y2_test, y2_pred))"
      ],
      "metadata": {
        "colab": {
          "base_uri": "https://localhost:8080/"
        },
        "id": "gjIXvC9DPKfQ",
        "outputId": "d2f0c25d-ca47-4593-afd5-f7603eb550d5"
      },
      "execution_count": 48,
      "outputs": [
        {
          "output_type": "stream",
          "name": "stdout",
          "text": [
            "[[ 91   4  21]\n",
            " [ 17  44  28]\n",
            " [ 17   9 103]]\n",
            "              precision    recall  f1-score   support\n",
            "\n",
            "          -1       0.73      0.78      0.76       116\n",
            "           0       0.77      0.49      0.60        89\n",
            "           1       0.68      0.80      0.73       129\n",
            "\n",
            "    accuracy                           0.71       334\n",
            "   macro avg       0.73      0.69      0.70       334\n",
            "weighted avg       0.72      0.71      0.71       334\n",
            "\n"
          ]
        }
      ]
    },
    {
      "cell_type": "code",
      "source": [
        "model = SVC()\n",
        "param_grid = {'C':[1,5,8],'kernel':['linear','rbf']}\n",
        "grid_model = GridSearchCV(model,param_grid)\n",
        "grid_model.fit(scaled_X3_test, y3_test)\n",
        "y3_pred = grid_model.predict(scaled_X3_test)\n",
        "print(confusion_matrix(y3_test, y3_pred))\n",
        "print(classification_report(y3_test, y3_pred))"
      ],
      "metadata": {
        "colab": {
          "base_uri": "https://localhost:8080/"
        },
        "id": "lM348CSwPTAh",
        "outputId": "bf0795b9-92d6-4bdd-8ee3-80b5de282e88"
      },
      "execution_count": 49,
      "outputs": [
        {
          "output_type": "stream",
          "name": "stdout",
          "text": [
            "[[14  1]\n",
            " [ 1 49]]\n",
            "              precision    recall  f1-score   support\n",
            "\n",
            "          -1       0.93      0.93      0.93        15\n",
            "           1       0.98      0.98      0.98        50\n",
            "\n",
            "    accuracy                           0.97        65\n",
            "   macro avg       0.96      0.96      0.96        65\n",
            "weighted avg       0.97      0.97      0.97        65\n",
            "\n"
          ]
        }
      ]
    },
    {
      "cell_type": "code",
      "source": [
        "model = SVC()\n",
        "param_grid = {'C':[1,5,8],'kernel':['linear','rbf']}\n",
        "grid_model = GridSearchCV(model,param_grid)\n",
        "grid_model.fit(scaled_X4_test, y4_test)\n",
        "y4_pred = grid_model.predict(scaled_X4_test)\n",
        "print(confusion_matrix(y4_test, y4_pred))\n",
        "print(classification_report(y4_test, y4_pred))"
      ],
      "metadata": {
        "colab": {
          "base_uri": "https://localhost:8080/"
        },
        "id": "GRmHFG-LPaM7",
        "outputId": "d704991c-f3e9-462f-9d14-04ed5f282d38"
      },
      "execution_count": 50,
      "outputs": [
        {
          "output_type": "stream",
          "name": "stdout",
          "text": [
            "[[ 92  23]\n",
            " [ 27 101]]\n",
            "              precision    recall  f1-score   support\n",
            "\n",
            "          -1       0.77      0.80      0.79       115\n",
            "           1       0.81      0.79      0.80       128\n",
            "\n",
            "    accuracy                           0.79       243\n",
            "   macro avg       0.79      0.79      0.79       243\n",
            "weighted avg       0.79      0.79      0.79       243\n",
            "\n"
          ]
        }
      ]
    },
    {
      "cell_type": "markdown",
      "metadata": {
        "id": "UYrjnC5lV642"
      },
      "source": [
        "## DesTree"
      ]
    },
    {
      "cell_type": "code",
      "source": [
        "from sklearn.tree import DecisionTreeClassifier"
      ],
      "metadata": {
        "id": "7iMSEgQdQQlm"
      },
      "execution_count": 51,
      "outputs": []
    },
    {
      "cell_type": "code",
      "execution_count": 52,
      "metadata": {
        "colab": {
          "base_uri": "https://localhost:8080/"
        },
        "id": "oS8E1MS_V643",
        "outputId": "3d959e8b-0102-4b50-b93c-b225d69be95f"
      },
      "outputs": [
        {
          "output_type": "stream",
          "name": "stdout",
          "text": [
            "[[  2  11   0]\n",
            " [ 14 641  32]\n",
            " [  2  31  12]]\n",
            "              precision    recall  f1-score   support\n",
            "\n",
            "          -1       0.11      0.15      0.13        13\n",
            "           0       0.94      0.93      0.94       687\n",
            "           1       0.27      0.27      0.27        45\n",
            "\n",
            "    accuracy                           0.88       745\n",
            "   macro avg       0.44      0.45      0.44       745\n",
            "weighted avg       0.88      0.88      0.88       745\n",
            "\n"
          ]
        }
      ],
      "source": [
        "model = DecisionTreeClassifier()\n",
        "param_grid = {'criterion':['gini', 'entropy', 'log_loss']}\n",
        "grid_model = GridSearchCV(model,param_grid)\n",
        "grid_model.fit(scaled_X1_train, y1_train)\n",
        "base_pred1 = grid_model.predict(scaled_X1_test)\n",
        "print(confusion_matrix(y1_test, base_pred1))\n",
        "print(classification_report(y1_test, base_pred1))"
      ]
    },
    {
      "cell_type": "code",
      "source": [
        "model = DecisionTreeClassifier()\n",
        "param_grid = {'criterion':['gini', 'entropy', 'log_loss']}\n",
        "grid_model = GridSearchCV(model,param_grid)\n",
        "grid_model.fit(scaled_X2_train, y2_train)\n",
        "base_pred2 = grid_model.predict(scaled_X2_test)\n",
        "print(confusion_matrix(y2_test, base_pred2))\n",
        "print(classification_report(y2_test, base_pred2))"
      ],
      "metadata": {
        "colab": {
          "base_uri": "https://localhost:8080/"
        },
        "id": "IBTxDiLlQbMJ",
        "outputId": "2a9b35bd-c71c-47a7-bb89-f3f6b2b10ca5"
      },
      "execution_count": 53,
      "outputs": [
        {
          "output_type": "stream",
          "name": "stdout",
          "text": [
            "[[55 29 32]\n",
            " [18 43 28]\n",
            " [25 33 71]]\n",
            "              precision    recall  f1-score   support\n",
            "\n",
            "          -1       0.56      0.47      0.51       116\n",
            "           0       0.41      0.48      0.44        89\n",
            "           1       0.54      0.55      0.55       129\n",
            "\n",
            "    accuracy                           0.51       334\n",
            "   macro avg       0.50      0.50      0.50       334\n",
            "weighted avg       0.51      0.51      0.51       334\n",
            "\n"
          ]
        }
      ]
    },
    {
      "cell_type": "code",
      "source": [
        "model = DecisionTreeClassifier()\n",
        "param_grid = {'criterion':['gini', 'entropy', 'log_loss']}\n",
        "grid_model = GridSearchCV(model,param_grid)\n",
        "grid_model.fit(scaled_X3_train, y3_train)\n",
        "base_pred3 = grid_model.predict(scaled_X3_test)\n",
        "print(confusion_matrix(y3_test, base_pred3))\n",
        "print(classification_report(y3_test, base_pred3))"
      ],
      "metadata": {
        "colab": {
          "base_uri": "https://localhost:8080/"
        },
        "id": "JEg7odUzQg4t",
        "outputId": "52b129ac-1b72-473f-cf9f-b71e3d2ba6c6"
      },
      "execution_count": 54,
      "outputs": [
        {
          "output_type": "stream",
          "name": "stdout",
          "text": [
            "[[ 9  6]\n",
            " [19 31]]\n",
            "              precision    recall  f1-score   support\n",
            "\n",
            "          -1       0.32      0.60      0.42        15\n",
            "           1       0.84      0.62      0.71        50\n",
            "\n",
            "    accuracy                           0.62        65\n",
            "   macro avg       0.58      0.61      0.57        65\n",
            "weighted avg       0.72      0.62      0.64        65\n",
            "\n"
          ]
        }
      ]
    },
    {
      "cell_type": "code",
      "source": [
        "model = DecisionTreeClassifier()\n",
        "param_grid = {'criterion':['gini', 'entropy', 'log_loss']}\n",
        "grid_model = GridSearchCV(model,param_grid)\n",
        "grid_model.fit(scaled_X4_train, y4_train)\n",
        "base_pred4 = grid_model.predict(scaled_X4_test)\n",
        "print(confusion_matrix(y4_test, base_pred4))\n",
        "print(classification_report(y4_test, base_pred4))"
      ],
      "metadata": {
        "colab": {
          "base_uri": "https://localhost:8080/"
        },
        "id": "9wf8aFQYQmen",
        "outputId": "f8056273-9cf3-4eb5-df85-fba3680316df"
      },
      "execution_count": 55,
      "outputs": [
        {
          "output_type": "stream",
          "name": "stdout",
          "text": [
            "[[60 55]\n",
            " [40 88]]\n",
            "              precision    recall  f1-score   support\n",
            "\n",
            "          -1       0.60      0.52      0.56       115\n",
            "           1       0.62      0.69      0.65       128\n",
            "\n",
            "    accuracy                           0.61       243\n",
            "   macro avg       0.61      0.60      0.60       243\n",
            "weighted avg       0.61      0.61      0.61       243\n",
            "\n"
          ]
        }
      ]
    }
  ],
  "metadata": {
    "kernelspec": {
      "display_name": "Python 3",
      "language": "python",
      "name": "python3"
    },
    "language_info": {
      "codemirror_mode": {
        "name": "ipython",
        "version": 3
      },
      "file_extension": ".py",
      "mimetype": "text/x-python",
      "name": "python",
      "nbconvert_exporter": "python",
      "pygments_lexer": "ipython3",
      "version": "3.12.2"
    },
    "colab": {
      "provenance": []
    }
  },
  "nbformat": 4,
  "nbformat_minor": 0
}